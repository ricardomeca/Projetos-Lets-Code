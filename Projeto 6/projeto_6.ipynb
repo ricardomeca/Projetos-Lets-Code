{
 "cells": [
  {
   "cell_type": "markdown",
   "metadata": {},
   "source": [
    "# Projeto 06 - Safra 😎"
   ]
  },
  {
   "cell_type": "markdown",
   "metadata": {},
   "source": [
    "| Coluna            | Tipo da variável                   |                                           Descrição |\n",
    "| :---------------- | :--------------------------------- | --------------------------------------------------: |\n",
    "| LoanNr_ChkDgt     | Quantitativa Discreta              |                              Identifier Primary key |\n",
    "| Name              | Qualitativa Nominal                |                                       Borrower name |\n",
    "| City              | Qualitativa Nominal                |                                       Borrower city |\n",
    "| State             | Qualitativa Nominal                |                                      Borrower state |\n",
    "| Zip               | Qualitativa Nominal                |                                   Borrower zip code |\n",
    "| Bank              | Qualitativa Nominal                |                                           Bank name |\n",
    "| BankState         | Qualitativa Nominal                |                                          Bank state |\n",
    "| NAICS             | Qualitativa Ordinal                |  North American industry classification system code |\n",
    "| ApprovalDate      | Qualitativa Ordinal                |                          Date SBA commitment issued |\n",
    "| ApprovalFY        | Quantitativa Discreta              |                           Fiscal year of commitment |\n",
    "| Term              | Quantitativa Discreta              |                                 Loan term in months |\n",
    "| NoEmp             | Quantitativa Discreta              |                        Number of business employees |\n",
    "| NewExist          | Qualitativa Nominal                |             1 = Existing business, 2 = New business |\n",
    "| CreateJob         | Quantitativa Discreta              |                              Number of jobs created |\n",
    "| RetainedJob       | Quantitativa Discreta              |                             Number of jobs retained |\n",
    "| FranchiseCode     | Qualitativa Nominal                |     Franchise code, (00000 or 00001) = No franchise |\n",
    "| UrbanRural        | Qualitativa Nominal                |                 1 = Urban, 2 = rural, 0 = undefined |\n",
    "| RevLineCr         | Qualitativa Nominal                |           Revolving line of credit: Y = Yes, N = No |\n",
    "| LowDoc            | Qualitativa Nominal                |                LowDoc Loan Program: Y = Yes, N = No |\n",
    "| ChgOffDate        | Qualitativa Ordinal                |   The date when a loan is declared to be in default |\n",
    "| DisbursementDate  | Qualitativa Ordinal                |                                   Disbursement date |\n",
    "| DisbursementGross | Quantitativa Contínua              |                                    Amount disbursed |\n",
    "| BalanceGross      | Quantitativa Contínua              |                            Gross amount outstanding |\n",
    "| MIS_Status        | Qualitativa Nominal                | Loan status charged off = CHGOFF, Paid in full =PIF |\n",
    "| ChgOffPrinGr      | Quantitativa Contínua              |                                  Charged-off amount |\n",
    "| GrAppv            | Quantitativa Contínua              |               Gross amount of loan approved by bank |\n",
    "| SBA_Appv          | Quantitativa Contínua              |            SBA’s guaranteed amount of approved loan |\n"
   ]
  },
  {
   "cell_type": "markdown",
   "metadata": {},
   "source": [
    "| Coluna            | Tipo da variável                   |                                           Descrição | Check |\n",
    "| :---------------- | :--------------------------------- | --------------------------------------------------: |:-----:| \n",
    "| Name              | Qualitativa Nominal                |                                       Borrower name |[ ]    |\n",
    "| City              | Qualitativa Nominal                |                                       Borrower city |[ ]    |\n",
    "| State             | Qualitativa Nominal                |                                      Borrower state |[ ]    |\n",
    "| Bank              | Qualitativa Nominal                |                                           Bank name |[ ]    | \n",
    "| NAICS             | Qualitativa Ordinal                |  North American industry classification system code |[ ]    |\n",
    "| ApprovalDate      | Qualitativa Ordinal                |                          Date SBA commitment issued |[ ]    |\n",
    "| NewExist          | Qualitativa Nominal                |             1 = Existing business, 2 = New business |[ ]    |\n",
    "| UrbanRural        | Qualitativa Nominal                |                 1 = Urban, 2 = rural, 0 = undefined |[ ]    |\n",
    "| RevLineCr         | Qualitativa Nominal                |           Revolving line of credit: Y = Yes, N = No |[ ]    |\n",
    "| LowDoc            | Qualitativa Nominal                |                LowDoc Loan Program: Y = Yes, N = No |[ ]    |\n",
    "| ChgOffDate        | Qualitativa Ordinal                |   The date when a loan is declared to be in default |[ ]    |\n",
    "| MIS_Status        | Qualitativa Nominal                | Loan status charged off = CHGOFF, Paid in full =PIF |[ ]    |\n",
    "| DisbursementDate  | Qualitativa Ordinal                |                                   Disbursement date |[ ]    |\n",
    "| DisbursementGross | Quantitativa Contínua              |                                    Amount disbursed |[ ]    |\n",
    "| BalanceGross      | Quantitativa Contínua              |                            Gross amount outstanding |[ ]    |\n",
    "| ApprovalFY        | Quantitativa Discreta              |                           Fiscal year of commitment |[ ]    |\n",
    "| Term              | Quantitativa Discreta              |                                 Loan term in months |[ ]    |\n",
    "| NoEmp             | Quantitativa Discreta              |                        Number of business employees |[ ]    |\n",
    "| ChgOffPrinGr      | Quantitativa Contínua              |                                  Charged-off amount |[ ]    |\n",
    "| GrAppv            | Quantitativa Contínua              |               Gross amount of loan approved by bank |[ ]    |\n",
    "| SBA_Appv          | Quantitativa Contínua              |            SBA’s guaranteed amount of approved loan |[ ]    |"
   ]
  },
  {
   "cell_type": "markdown",
   "metadata": {},
   "source": [
    "'Name', 'City', 'State', 'Bank', 'NAICS', 'ApprovalDate', 'ApprovalFY',\n",
    "       'Term', 'NoEmp', 'NewExist', 'UrbanRural', 'RevLineCr', 'LowDoc',\n",
    "       'ChgOffDate', 'DisbursementDate', 'DisbursementGross', 'BalanceGross',\n",
    "       'MIS_Status', 'ChgOffPrinGr', 'GrAppv', 'SBA_Appv'"
   ]
  },
  {
   "cell_type": "code",
   "execution_count": 3,
   "metadata": {},
   "outputs": [],
   "source": [
    "import pandas as pd\n",
    "import numpy as np\n",
    "import matplotlib.pyplot as plt\n",
    "import seaborn as sns\n",
    "import scipy.stats as stats\n",
    "from sklearn.preprocessing import LabelEncoder\n",
    "\n",
    "pd.set_option('display.max_columns', None)"
   ]
  },
  {
   "cell_type": "code",
   "execution_count": 4,
   "metadata": {},
   "outputs": [
    {
     "ename": "FileNotFoundError",
     "evalue": "[Errno 2] No such file or directory: 'SBAnational.csv'",
     "output_type": "error",
     "traceback": [
      "\u001b[1;31m---------------------------------------------------------------------------\u001b[0m",
      "\u001b[1;31mFileNotFoundError\u001b[0m                         Traceback (most recent call last)",
      "\u001b[1;32mc:\\Users\\ricam\\LETS CODE\\Projeto 6\\letscode-projeto-6\\projeto_6.ipynb Célula: 6\u001b[0m in \u001b[0;36m<cell line: 1>\u001b[1;34m()\u001b[0m\n\u001b[1;32m----> <a href='vscode-notebook-cell:/c%3A/Users/ricam/LETS%20CODE/Projeto%206/letscode-projeto-6/projeto_6.ipynb#W5sZmlsZQ%3D%3D?line=0'>1</a>\u001b[0m df_raw \u001b[39m=\u001b[39m pd\u001b[39m.\u001b[39;49mread_csv(\u001b[39m\"\u001b[39;49m\u001b[39mSBAnational.csv\u001b[39;49m\u001b[39m\"\u001b[39;49m)\n\u001b[0;32m      <a href='vscode-notebook-cell:/c%3A/Users/ricam/LETS%20CODE/Projeto%206/letscode-projeto-6/projeto_6.ipynb#W5sZmlsZQ%3D%3D?line=1'>2</a>\u001b[0m df_raw\u001b[39m.\u001b[39mhead()\n",
      "File \u001b[1;32mc:\\Users\\ricam\\AppData\\Local\\Programs\\Python\\Python310\\lib\\site-packages\\pandas\\util\\_decorators.py:311\u001b[0m, in \u001b[0;36mdeprecate_nonkeyword_arguments.<locals>.decorate.<locals>.wrapper\u001b[1;34m(*args, **kwargs)\u001b[0m\n\u001b[0;32m    305\u001b[0m \u001b[39mif\u001b[39;00m \u001b[39mlen\u001b[39m(args) \u001b[39m>\u001b[39m num_allow_args:\n\u001b[0;32m    306\u001b[0m     warnings\u001b[39m.\u001b[39mwarn(\n\u001b[0;32m    307\u001b[0m         msg\u001b[39m.\u001b[39mformat(arguments\u001b[39m=\u001b[39marguments),\n\u001b[0;32m    308\u001b[0m         \u001b[39mFutureWarning\u001b[39;00m,\n\u001b[0;32m    309\u001b[0m         stacklevel\u001b[39m=\u001b[39mstacklevel,\n\u001b[0;32m    310\u001b[0m     )\n\u001b[1;32m--> 311\u001b[0m \u001b[39mreturn\u001b[39;00m func(\u001b[39m*\u001b[39margs, \u001b[39m*\u001b[39m\u001b[39m*\u001b[39mkwargs)\n",
      "File \u001b[1;32mc:\\Users\\ricam\\AppData\\Local\\Programs\\Python\\Python310\\lib\\site-packages\\pandas\\io\\parsers\\readers.py:680\u001b[0m, in \u001b[0;36mread_csv\u001b[1;34m(filepath_or_buffer, sep, delimiter, header, names, index_col, usecols, squeeze, prefix, mangle_dupe_cols, dtype, engine, converters, true_values, false_values, skipinitialspace, skiprows, skipfooter, nrows, na_values, keep_default_na, na_filter, verbose, skip_blank_lines, parse_dates, infer_datetime_format, keep_date_col, date_parser, dayfirst, cache_dates, iterator, chunksize, compression, thousands, decimal, lineterminator, quotechar, quoting, doublequote, escapechar, comment, encoding, encoding_errors, dialect, error_bad_lines, warn_bad_lines, on_bad_lines, delim_whitespace, low_memory, memory_map, float_precision, storage_options)\u001b[0m\n\u001b[0;32m    665\u001b[0m kwds_defaults \u001b[39m=\u001b[39m _refine_defaults_read(\n\u001b[0;32m    666\u001b[0m     dialect,\n\u001b[0;32m    667\u001b[0m     delimiter,\n\u001b[1;32m   (...)\u001b[0m\n\u001b[0;32m    676\u001b[0m     defaults\u001b[39m=\u001b[39m{\u001b[39m\"\u001b[39m\u001b[39mdelimiter\u001b[39m\u001b[39m\"\u001b[39m: \u001b[39m\"\u001b[39m\u001b[39m,\u001b[39m\u001b[39m\"\u001b[39m},\n\u001b[0;32m    677\u001b[0m )\n\u001b[0;32m    678\u001b[0m kwds\u001b[39m.\u001b[39mupdate(kwds_defaults)\n\u001b[1;32m--> 680\u001b[0m \u001b[39mreturn\u001b[39;00m _read(filepath_or_buffer, kwds)\n",
      "File \u001b[1;32mc:\\Users\\ricam\\AppData\\Local\\Programs\\Python\\Python310\\lib\\site-packages\\pandas\\io\\parsers\\readers.py:575\u001b[0m, in \u001b[0;36m_read\u001b[1;34m(filepath_or_buffer, kwds)\u001b[0m\n\u001b[0;32m    572\u001b[0m _validate_names(kwds\u001b[39m.\u001b[39mget(\u001b[39m\"\u001b[39m\u001b[39mnames\u001b[39m\u001b[39m\"\u001b[39m, \u001b[39mNone\u001b[39;00m))\n\u001b[0;32m    574\u001b[0m \u001b[39m# Create the parser.\u001b[39;00m\n\u001b[1;32m--> 575\u001b[0m parser \u001b[39m=\u001b[39m TextFileReader(filepath_or_buffer, \u001b[39m*\u001b[39m\u001b[39m*\u001b[39mkwds)\n\u001b[0;32m    577\u001b[0m \u001b[39mif\u001b[39;00m chunksize \u001b[39mor\u001b[39;00m iterator:\n\u001b[0;32m    578\u001b[0m     \u001b[39mreturn\u001b[39;00m parser\n",
      "File \u001b[1;32mc:\\Users\\ricam\\AppData\\Local\\Programs\\Python\\Python310\\lib\\site-packages\\pandas\\io\\parsers\\readers.py:934\u001b[0m, in \u001b[0;36mTextFileReader.__init__\u001b[1;34m(self, f, engine, **kwds)\u001b[0m\n\u001b[0;32m    931\u001b[0m     \u001b[39mself\u001b[39m\u001b[39m.\u001b[39moptions[\u001b[39m\"\u001b[39m\u001b[39mhas_index_names\u001b[39m\u001b[39m\"\u001b[39m] \u001b[39m=\u001b[39m kwds[\u001b[39m\"\u001b[39m\u001b[39mhas_index_names\u001b[39m\u001b[39m\"\u001b[39m]\n\u001b[0;32m    933\u001b[0m \u001b[39mself\u001b[39m\u001b[39m.\u001b[39mhandles: IOHandles \u001b[39m|\u001b[39m \u001b[39mNone\u001b[39;00m \u001b[39m=\u001b[39m \u001b[39mNone\u001b[39;00m\n\u001b[1;32m--> 934\u001b[0m \u001b[39mself\u001b[39m\u001b[39m.\u001b[39m_engine \u001b[39m=\u001b[39m \u001b[39mself\u001b[39;49m\u001b[39m.\u001b[39;49m_make_engine(f, \u001b[39mself\u001b[39;49m\u001b[39m.\u001b[39;49mengine)\n",
      "File \u001b[1;32mc:\\Users\\ricam\\AppData\\Local\\Programs\\Python\\Python310\\lib\\site-packages\\pandas\\io\\parsers\\readers.py:1218\u001b[0m, in \u001b[0;36mTextFileReader._make_engine\u001b[1;34m(self, f, engine)\u001b[0m\n\u001b[0;32m   1214\u001b[0m     mode \u001b[39m=\u001b[39m \u001b[39m\"\u001b[39m\u001b[39mrb\u001b[39m\u001b[39m\"\u001b[39m\n\u001b[0;32m   1215\u001b[0m \u001b[39m# error: No overload variant of \"get_handle\" matches argument types\u001b[39;00m\n\u001b[0;32m   1216\u001b[0m \u001b[39m# \"Union[str, PathLike[str], ReadCsvBuffer[bytes], ReadCsvBuffer[str]]\"\u001b[39;00m\n\u001b[0;32m   1217\u001b[0m \u001b[39m# , \"str\", \"bool\", \"Any\", \"Any\", \"Any\", \"Any\", \"Any\"\u001b[39;00m\n\u001b[1;32m-> 1218\u001b[0m \u001b[39mself\u001b[39m\u001b[39m.\u001b[39mhandles \u001b[39m=\u001b[39m get_handle(  \u001b[39m# type: ignore[call-overload]\u001b[39;49;00m\n\u001b[0;32m   1219\u001b[0m     f,\n\u001b[0;32m   1220\u001b[0m     mode,\n\u001b[0;32m   1221\u001b[0m     encoding\u001b[39m=\u001b[39;49m\u001b[39mself\u001b[39;49m\u001b[39m.\u001b[39;49moptions\u001b[39m.\u001b[39;49mget(\u001b[39m\"\u001b[39;49m\u001b[39mencoding\u001b[39;49m\u001b[39m\"\u001b[39;49m, \u001b[39mNone\u001b[39;49;00m),\n\u001b[0;32m   1222\u001b[0m     compression\u001b[39m=\u001b[39;49m\u001b[39mself\u001b[39;49m\u001b[39m.\u001b[39;49moptions\u001b[39m.\u001b[39;49mget(\u001b[39m\"\u001b[39;49m\u001b[39mcompression\u001b[39;49m\u001b[39m\"\u001b[39;49m, \u001b[39mNone\u001b[39;49;00m),\n\u001b[0;32m   1223\u001b[0m     memory_map\u001b[39m=\u001b[39;49m\u001b[39mself\u001b[39;49m\u001b[39m.\u001b[39;49moptions\u001b[39m.\u001b[39;49mget(\u001b[39m\"\u001b[39;49m\u001b[39mmemory_map\u001b[39;49m\u001b[39m\"\u001b[39;49m, \u001b[39mFalse\u001b[39;49;00m),\n\u001b[0;32m   1224\u001b[0m     is_text\u001b[39m=\u001b[39;49mis_text,\n\u001b[0;32m   1225\u001b[0m     errors\u001b[39m=\u001b[39;49m\u001b[39mself\u001b[39;49m\u001b[39m.\u001b[39;49moptions\u001b[39m.\u001b[39;49mget(\u001b[39m\"\u001b[39;49m\u001b[39mencoding_errors\u001b[39;49m\u001b[39m\"\u001b[39;49m, \u001b[39m\"\u001b[39;49m\u001b[39mstrict\u001b[39;49m\u001b[39m\"\u001b[39;49m),\n\u001b[0;32m   1226\u001b[0m     storage_options\u001b[39m=\u001b[39;49m\u001b[39mself\u001b[39;49m\u001b[39m.\u001b[39;49moptions\u001b[39m.\u001b[39;49mget(\u001b[39m\"\u001b[39;49m\u001b[39mstorage_options\u001b[39;49m\u001b[39m\"\u001b[39;49m, \u001b[39mNone\u001b[39;49;00m),\n\u001b[0;32m   1227\u001b[0m )\n\u001b[0;32m   1228\u001b[0m \u001b[39massert\u001b[39;00m \u001b[39mself\u001b[39m\u001b[39m.\u001b[39mhandles \u001b[39mis\u001b[39;00m \u001b[39mnot\u001b[39;00m \u001b[39mNone\u001b[39;00m\n\u001b[0;32m   1229\u001b[0m f \u001b[39m=\u001b[39m \u001b[39mself\u001b[39m\u001b[39m.\u001b[39mhandles\u001b[39m.\u001b[39mhandle\n",
      "File \u001b[1;32mc:\\Users\\ricam\\AppData\\Local\\Programs\\Python\\Python310\\lib\\site-packages\\pandas\\io\\common.py:786\u001b[0m, in \u001b[0;36mget_handle\u001b[1;34m(path_or_buf, mode, encoding, compression, memory_map, is_text, errors, storage_options)\u001b[0m\n\u001b[0;32m    781\u001b[0m \u001b[39melif\u001b[39;00m \u001b[39misinstance\u001b[39m(handle, \u001b[39mstr\u001b[39m):\n\u001b[0;32m    782\u001b[0m     \u001b[39m# Check whether the filename is to be opened in binary mode.\u001b[39;00m\n\u001b[0;32m    783\u001b[0m     \u001b[39m# Binary mode does not support 'encoding' and 'newline'.\u001b[39;00m\n\u001b[0;32m    784\u001b[0m     \u001b[39mif\u001b[39;00m ioargs\u001b[39m.\u001b[39mencoding \u001b[39mand\u001b[39;00m \u001b[39m\"\u001b[39m\u001b[39mb\u001b[39m\u001b[39m\"\u001b[39m \u001b[39mnot\u001b[39;00m \u001b[39min\u001b[39;00m ioargs\u001b[39m.\u001b[39mmode:\n\u001b[0;32m    785\u001b[0m         \u001b[39m# Encoding\u001b[39;00m\n\u001b[1;32m--> 786\u001b[0m         handle \u001b[39m=\u001b[39m \u001b[39mopen\u001b[39;49m(\n\u001b[0;32m    787\u001b[0m             handle,\n\u001b[0;32m    788\u001b[0m             ioargs\u001b[39m.\u001b[39;49mmode,\n\u001b[0;32m    789\u001b[0m             encoding\u001b[39m=\u001b[39;49mioargs\u001b[39m.\u001b[39;49mencoding,\n\u001b[0;32m    790\u001b[0m             errors\u001b[39m=\u001b[39;49merrors,\n\u001b[0;32m    791\u001b[0m             newline\u001b[39m=\u001b[39;49m\u001b[39m\"\u001b[39;49m\u001b[39m\"\u001b[39;49m,\n\u001b[0;32m    792\u001b[0m         )\n\u001b[0;32m    793\u001b[0m     \u001b[39melse\u001b[39;00m:\n\u001b[0;32m    794\u001b[0m         \u001b[39m# Binary mode\u001b[39;00m\n\u001b[0;32m    795\u001b[0m         handle \u001b[39m=\u001b[39m \u001b[39mopen\u001b[39m(handle, ioargs\u001b[39m.\u001b[39mmode)\n",
      "\u001b[1;31mFileNotFoundError\u001b[0m: [Errno 2] No such file or directory: 'SBAnational.csv'"
     ]
    }
   ],
   "source": [
    "df_raw = pd.read_csv(\"SBAnational.csv\")\n",
    "df_raw.head()"
   ]
  },
  {
   "cell_type": "code",
   "execution_count": null,
   "metadata": {},
   "outputs": [],
   "source": [
    "df_raw.info()"
   ]
  },
  {
   "cell_type": "markdown",
   "metadata": {},
   "source": [
    "## Tratamento dos dados"
   ]
  },
  {
   "cell_type": "code",
   "execution_count": null,
   "metadata": {},
   "outputs": [],
   "source": [
    "df_raw.isna().sum()"
   ]
  },
  {
   "cell_type": "code",
   "execution_count": null,
   "metadata": {},
   "outputs": [],
   "source": [
    "df_raw.dropna(subset=[\"Name\", \"City\", \"State\", \"Bank\", \"BankState\", \"NewExist\", \"RevLineCr\", \"LowDoc\", \"DisbursementDate\", \"MIS_Status\"], inplace=True)"
   ]
  },
  {
   "cell_type": "code",
   "execution_count": null,
   "metadata": {},
   "outputs": [],
   "source": [
    "## drop columns:\n",
    "df_raw.drop(columns=[\"CreateJob\", \"RetainedJob\", \"FranchiseCode\", \"Zip\", \"BankState\", \"LoanNr_ChkDgt\"], inplace=True)\n",
    "\n",
    "#  \"ApprovalDate\", \"ApprovalFY\", \"Term\", \"NoEmp\", \"DisbursementGross\", \"BalanceGross\", \"GrAppv\", \"SBA_Appv\", \"NAICS\", \"ApprovalDate\", \"ChgOffDate\", \"DisbursementDate\"]"
   ]
  },
  {
   "cell_type": "code",
   "execution_count": null,
   "metadata": {},
   "outputs": [],
   "source": [
    "df_raw.isna().sum()"
   ]
  },
  {
   "cell_type": "code",
   "execution_count": null,
   "metadata": {},
   "outputs": [],
   "source": [
    "df_raw.columns"
   ]
  },
  {
   "cell_type": "code",
   "execution_count": null,
   "metadata": {},
   "outputs": [],
   "source": [
    "money_type_columns = [\"DisbursementGross\", \"BalanceGross\", \"ChgOffPrinGr\", \"GrAppv\", \"SBA_Appv\"]\n",
    "for col in money_type_columns:\n",
    "    df_raw[col] = df_raw[col].apply(lambda x: x.replace(\"$\", \"\").replace(\",\", \"\")).astype(float)"
   ]
  },
  {
   "cell_type": "code",
   "execution_count": null,
   "metadata": {},
   "outputs": [],
   "source": [
    "df_raw[\"ApprovalDate\"] = pd.to_datetime(df_raw[\"ApprovalDate\"])\n",
    "df_raw[\"DisbursementDate\"] = pd.to_datetime(df_raw[\"DisbursementDate\"])"
   ]
  },
  {
   "cell_type": "code",
   "execution_count": null,
   "metadata": {},
   "outputs": [],
   "source": [
    "df_raw = df_raw[df_raw[\"LowDoc\"].isin((\"Y\", \"N\"))]\n",
    "df_raw = df_raw[df_raw[\"RevLineCr\"].isin((\"Y\", \"N\"))]"
   ]
  },
  {
   "cell_type": "code",
   "execution_count": null,
   "metadata": {},
   "outputs": [],
   "source": [
    "df_raw[\"ApprovalFY\"].replace(\"1976A\", 1976, inplace=True)\n",
    "df_raw[\"ApprovalFY\"] = df_raw[\"ApprovalFY\"].astype(int)"
   ]
  },
  {
   "cell_type": "code",
   "execution_count": null,
   "metadata": {},
   "outputs": [],
   "source": [
    "df_raw[\"NewExist\"] = df_raw[\"NewExist\"].astype(int)"
   ]
  },
  {
   "cell_type": "markdown",
   "metadata": {},
   "source": [
    "## Variáveis Qualitativas // Categorical\n",
    "\n",
    "| Coluna            | Tipo da variável                   |                                           Descrição |\n",
    "| :---------------- | :--------------------------------- | --------------------------------------------------: |\n",
    "| Name              | Qualitativa Nominal                |                                       Borrower name |\n",
    "| City              | Qualitativa Nominal                |                                       Borrower city |\n",
    "| State             | Qualitativa Nominal                |                                      Borrower state |\n",
    "| Bank              | Qualitativa Nominal                |                                           Bank name |\n",
    "| NAICS             | Qualitativa Ordinal                |  North American industry classification system code |\n",
    "| ApprovalDate      | Qualitativa Ordinal                |                          Date SBA commitment issued |\n",
    "| NewExist          | Qualitativa Nominal                |             1 = Existing business, 2 = New business |\n",
    "| UrbanRural        | Qualitativa Nominal                |                 1 = Urban, 2 = rural, 0 = undefined |\n",
    "| RevLineCr         | Qualitativa Nominal                |           Revolving line of credit: Y = Yes, N = No |\n",
    "| LowDoc            | Qualitativa Nominal                |                LowDoc Loan Program: Y = Yes, N = No |\n",
    "| ChgOffDate        | Qualitativa Ordinal                |   The date when a loan is declared to be in default |\n",
    "| MIS_Status        | Qualitativa Nominal                | Loan status charged off = CHGOFF, Paid in full =PIF |\n",
    "| DisbursementDate  | Qualitativa Ordinal                |                                   Disbursement date |"
   ]
  },
  {
   "cell_type": "code",
   "execution_count": null,
   "metadata": {},
   "outputs": [],
   "source": [
    "# groupby values more frequent grouped by 'city'\n",
    "city_group = df_raw.groupby(\"City\").size().sort_values(ascending=False)\n",
    "\n",
    "#plot an bar chart\n",
    "city_group.head(10).plot(kind=\"bar\", figsize=(10, 5), title=\"Top 10 cities with more loans\")"
   ]
  },
  {
   "cell_type": "code",
   "execution_count": null,
   "metadata": {},
   "outputs": [],
   "source": [
    "# plot a mean of loan amount by city\n",
    "city_group = df_raw.groupby(\"City\")[\"DisbursementGross\"].mean().sort_values(ascending=False)\n",
    "city_group.head(10).plot(kind=\"bar\", figsize=(10, 5), title=\"\")"
   ]
  },
  {
   "cell_type": "code",
   "execution_count": null,
   "metadata": {},
   "outputs": [],
   "source": [
    "categorical_columns = [\"State\", \"RevLineCr\", \"LowDoc\", \"NewExist\", \"MIS_Status\"]\n",
    "\n",
    "fig, axs = plt.subplots(3, 2, figsize=(15, 10))\n",
    "\n",
    "for col, ax in zip(categorical_columns, axs.flatten()):\n",
    "    # print(col, ax)\n",
    "    # plt.\n",
    "    df_raw[col].value_counts().plot(kind=\"bar\", title=col, ax=ax)\n",
    "    # df_tmp = df_raw[col].value_counts().reset_index()\n",
    "    # ax.bar(x=df_tmp[\"index\"], height=df_tmp[col])\n",
    "    # print(df_raw[col].value_counts())\n",
    "    plt.xticks(rotation = 45)\n",
    "plt.tight_layout()\n"
   ]
  },
  {
   "cell_type": "markdown",
   "metadata": {},
   "source": [
    "## Variáveis Quantitativas"
   ]
  },
  {
   "cell_type": "markdown",
   "metadata": {},
   "source": [
    "| Coluna            | Tipo da variável                   |                                           Descrição |\n",
    "| :---------------- | :--------------------------------- | --------------------------------------------------: |\n",
    "| GrAppv            | Quantitativa Contínua              |               Gross amount of loan approved by bank |\n",
    "| DisbursementGross | Quantitativa Contínua              |                                    Amount disbursed |\n",
    "| BalanceGross      | Quantitativa Contínua              |                            Gross amount outstanding |\n",
    "| ApprovalFY        | Quantitativa Discreta              |                           Fiscal year of commitment |\n",
    "| Term              | Quantitativa Discreta              |                                 Loan term in months |\n",
    "| NoEmp             | Quantitativa Discreta              |                        Number of business employees |\n",
    "| ChgOffPrinGr      | Quantitativa Contínua              |                                  Charged-off amount |\n",
    "| SBA_Appv          | Quantitativa Contínua              |            SBA’s guaranteed amount of approved loan |\n",
    "\n",
    "\n"
   ]
  },
  {
   "cell_type": "markdown",
   "metadata": {},
   "source": [
    "##  Iremos analisar de uma maneira completa as variáveis GrAppv, DisbursementGross, Term, NoEmp"
   ]
  },
  {
   "cell_type": "markdown",
   "metadata": {},
   "source": [
    "| Coluna            | Tipo da variável                   |                                           Descrição |\n",
    "| :---------------- | :--------------------------------- | --------------------------------------------------: |\n",
    "| GrAppv            | Quantitativa Contínua              |               Gross amount of loan approved by bank |\n",
    "| DisbursementGross | Quantitativa Contínua              |                                    Amount disbursed |\n",
    "| Term              | Quantitativa Discreta              |                                 Loan term in months |\n",
    "| NoEmp             | Quantitativa Discreta              |                        Number of business employees |\n"
   ]
  },
  {
   "cell_type": "code",
   "execution_count": null,
   "metadata": {},
   "outputs": [],
   "source": [
    "# Create a function that appends to the new dataset all the items in describe() for each column in df_raw \n",
    "def describe_columns(df, colunas):\n",
    "    df_describe = pd.DataFrame()\n",
    "    for col in df.columns:\n",
    "        if col in colunas:\n",
    "            df_describe[col] = df[col].describe()\n",
    "    return df_describe\n",
    "\n",
    "cols = [\"DisbursementGross\", \"GrAppv\", \"Term\", \"NoEmp\"]\n",
    "df_medidas_de_resumo = describe_columns(df_raw, cols)\n",
    "display(df_medidas_de_resumo[cols])"
   ]
  },
  {
   "cell_type": "markdown",
   "metadata": {},
   "source": [
    "### GrAppv\n",
    "- [X] Medidas de Resumo\n",
    "- [X] Maiores frequências e distribuição\n",
    "- [X] Outliers e dizer a decisão\n",
    "- [X] Gráfico\n"
   ]
  },
  {
   "cell_type": "code",
   "execution_count": null,
   "metadata": {},
   "outputs": [],
   "source": [
    "# Medidas de Resumo\n",
    "\n",
    "print(f'Medidas de resumo\\n{df_raw[\"GrAppv\"].describe()}')\n",
    "print(f'\\nMaiores frequências\\n{df_raw[\"GrAppv\"].value_counts().head(5)}')"
   ]
  },
  {
   "cell_type": "code",
   "execution_count": null,
   "metadata": {},
   "outputs": [],
   "source": [
    "# Boxplot da coluna GrAppv\n",
    "GrAppv = df_raw[\"GrAppv\"]\n",
    "boxplot = GrAppv.plot(kind=\"box\", figsize=(10, 5))"
   ]
  },
  {
   "cell_type": "code",
   "execution_count": null,
   "metadata": {},
   "outputs": [],
   "source": [
    "# Notamos que há vários outliers e criamos uma função que dividirá os valores em 2 grupos; o primeiro até a chamada linha de corte\n",
    "#  e o segundo após a linha de corte (outliers superiores)\n",
    "\n",
    "def interquartile(column):\n",
    "    q1 = column.quantile(0.25)\n",
    "    q3 = column.quantile(0.75) \n",
    "    iqr = q3 - q1\n",
    "    return (q3 + 1.5 * iqr)\n",
    "\n"
   ]
  },
  {
   "cell_type": "code",
   "execution_count": null,
   "metadata": {},
   "outputs": [],
   "source": [
    "linha_de_corte = interquartile(GrAppv)\n",
    "print(linha_de_corte)\n"
   ]
  },
  {
   "cell_type": "code",
   "execution_count": null,
   "metadata": {},
   "outputs": [],
   "source": [
    "Dividas_ate_linhadecorte = GrAppv[GrAppv < linha_de_corte]\n",
    "Dividas_ate_linhadecorte.describe()"
   ]
  },
  {
   "cell_type": "code",
   "execution_count": null,
   "metadata": {},
   "outputs": [],
   "source": [
    "boxplot = Dividas_ate_linhadecorte.plot(kind=\"box\", figsize=(10, 5))"
   ]
  },
  {
   "cell_type": "code",
   "execution_count": null,
   "metadata": {},
   "outputs": [],
   "source": [
    "Dividas_apos_linhadecorte = GrAppv[GrAppv > linha_de_corte]\n",
    "Dividas_apos_linhadecorte.describe()"
   ]
  },
  {
   "cell_type": "code",
   "execution_count": null,
   "metadata": {},
   "outputs": [],
   "source": [
    "boxplot = Dividas_apos_linhadecorte.plot(kind=\"box\", figsize=(10, 5))"
   ]
  },
  {
   "cell_type": "code",
   "execution_count": null,
   "metadata": {},
   "outputs": [],
   "source": [
    "## Plot two histograms, one with linha_de_corte and other without\n",
    "plot_1 = GrAppv[GrAppv < linha_de_corte].hist(bins=15, figsize=(10, 5), label=\"Sem linha_de_corte\")\n",
    "plt.ylabel(\"Frequência\")\n",
    "plt.xlabel(\"Crédito concedido\")\n",
    "plt.title(f'Valores até ${linha_de_corte:.0f}')"
   ]
  },
  {
   "cell_type": "code",
   "execution_count": null,
   "metadata": {},
   "outputs": [],
   "source": [
    "# histogram the GrAppv column filtering by GrAppv \n",
    "GrAppvPlot = GrAppv[GrAppv > linha_de_corte].hist(bins=15, figsize=(10, 5))\n",
    "plt.ylabel(\"Frequência\")\n",
    "plt. xlabel(\"Crédito concedido\")\n",
    "plt.title(f'Valores maiores que ${linha_de_corte:.0f}')"
   ]
  },
  {
   "cell_type": "markdown",
   "metadata": {},
   "source": [
    "### DisbursementGross\n",
    "- [X] Medidas de Resumo\n",
    "- [X] Maiores frequências e distribuição\n",
    "- [X] Outliers e dizer a decisão\n",
    "- [X] Gráfico"
   ]
  },
  {
   "cell_type": "code",
   "execution_count": null,
   "metadata": {},
   "outputs": [],
   "source": [
    "# Medidas de Resumo\n",
    "\n",
    "print(f'Medidas de resumo\\n{df_raw[\"DisbursementGross\"].describe()}')\n",
    "print(f'\\nMaiores frequências\\n{df_raw[\"DisbursementGross\"].value_counts().head(5)}')"
   ]
  },
  {
   "cell_type": "code",
   "execution_count": null,
   "metadata": {},
   "outputs": [],
   "source": [
    "# Boxplot da coluna DisbursementGross\n",
    "DisbursementGross = df_raw[\"DisbursementGross\"]\n",
    "boxplot = DisbursementGross.plot(kind=\"box\", figsize=(10, 5))"
   ]
  },
  {
   "cell_type": "code",
   "execution_count": null,
   "metadata": {},
   "outputs": [],
   "source": [
    "# Notamos que há vários outliers e criamos uma função que dividirá os valores em 2 grupos; o primeiro até a chamada linha de corte\n",
    "#  e o segundo após a linha de corte (outliers superiores)\n",
    "\n",
    "def interquartile(column):\n",
    "    q1 = column.quantile(0.25)\n",
    "    q3 = column.quantile(0.75) \n",
    "    iqr = q3 - q1\n",
    "    return (q3 + 1.5 * iqr)"
   ]
  },
  {
   "cell_type": "code",
   "execution_count": null,
   "metadata": {},
   "outputs": [],
   "source": [
    "linha_de_corte = interquartile(DisbursementGross)\n",
    "print(linha_de_corte)\n"
   ]
  },
  {
   "cell_type": "code",
   "execution_count": null,
   "metadata": {},
   "outputs": [],
   "source": [
    "Dividas_ate_linhadecorte = DisbursementGross[DisbursementGross < linha_de_corte]\n",
    "Dividas_ate_linhadecorte.describe()"
   ]
  },
  {
   "cell_type": "code",
   "execution_count": null,
   "metadata": {},
   "outputs": [],
   "source": [
    "boxplot = Dividas_ate_linhadecorte.plot(kind=\"box\", figsize=(10, 5))"
   ]
  },
  {
   "cell_type": "code",
   "execution_count": null,
   "metadata": {},
   "outputs": [],
   "source": [
    "Dividas_apos_linhadecorte = DisbursementGross[DisbursementGross > linha_de_corte]\n",
    "Dividas_apos_linhadecorte.describe()"
   ]
  },
  {
   "cell_type": "code",
   "execution_count": null,
   "metadata": {},
   "outputs": [],
   "source": [
    "boxplot = Dividas_apos_linhadecorte.plot(kind=\"box\", figsize=(10, 5))"
   ]
  },
  {
   "cell_type": "code",
   "execution_count": null,
   "metadata": {},
   "outputs": [],
   "source": [
    "## Plot two histograms, one with linha_de_corte and other without\n",
    "plot_1 = DisbursementGross[DisbursementGross < linha_de_corte].hist(bins=15, figsize=(10, 5), label=\"Sem linha_de_corte\")\n",
    "plt.ylabel(\"Frequência\")\n",
    "plt.xlabel(\"Crédito concedido\")\n",
    "plt.title(f'Valores até ${linha_de_corte:.0f}')"
   ]
  },
  {
   "cell_type": "code",
   "execution_count": null,
   "metadata": {},
   "outputs": [],
   "source": [
    "# histogram the DisbursementGross column filtering by DisbursementGross \n",
    "DisbursementGrossPlot = DisbursementGross[DisbursementGross > linha_de_corte].hist(bins=15, figsize=(10, 5))\n",
    "plt.ylabel(\"Frequência\")\n",
    "plt.xlabel(\"Crédito concedido\")\n",
    "plt.title(f'Valores maiores que ${linha_de_corte:.0f}')"
   ]
  },
  {
   "cell_type": "markdown",
   "metadata": {},
   "source": [
    "### Term\n",
    "- [X] Medidas de Resumo\n",
    "- [X] Maiores frequências e distribuição\n",
    "- [X] Outliers e dizer a decisão\n",
    "- [X] Gráfico"
   ]
  },
  {
   "cell_type": "code",
   "execution_count": null,
   "metadata": {},
   "outputs": [
    {
     "name": "stdout",
     "output_type": "stream",
     "text": [
      "Medidas de resumo\n",
      "count    611140.000000\n",
      "mean        105.200825\n",
      "std          75.587488\n",
      "min           0.000000\n",
      "25%          60.000000\n",
      "50%          84.000000\n",
      "75%         120.000000\n",
      "max         527.000000\n",
      "Name: Term, dtype: float64\n",
      "\n",
      "Maiores frequências\n",
      "84     170797\n",
      "240     60543\n",
      "60      58517\n",
      "120     43152\n",
      "300     21683\n",
      "Name: Term, dtype: int64\n"
     ]
    }
   ],
   "source": [
    "# Medidas de Resumo\n",
    "\n",
    "print(f'Medidas de resumo\\n{df_raw[\"Term\"].describe()}')\n",
    "print(f'\\nMaiores frequências\\n{df_raw[\"Term\"].value_counts().head(5)}')"
   ]
  },
  {
   "cell_type": "code",
   "execution_count": null,
   "metadata": {},
   "outputs": [
    {
     "data": {
      "image/png": "[encoded data removed]",
      "text/plain": [
       "<Figure size 720x360 with 1 Axes>"
      ]
     },
     "metadata": {
      "needs_background": "light"
     },
     "output_type": "display_data"
    }
   ],
   "source": [
    "# Boxplot da coluna Term, optamos por não remover pois há empréstimos com um número maior de meses, o que não deve ser descartado.\n",
    "Term = df_raw[\"Term\"]\n",
    "boxplot = Term.plot(kind=\"box\", figsize=(10, 5))"
   ]
  },
  {
   "cell_type": "code",
   "execution_count": null,
   "metadata": {},
   "outputs": [
    {
     "data": {
      "text/plain": [
       "Text(0.5, 0, 'Quantidade de meses para pagamento')"
      ]
     },
     "execution_count": 238,
     "metadata": {},
     "output_type": "execute_result"
    },
    {
     "data": {
      "image/png": "[encoded data removed]",
      "text/plain": [
       "<Figure size 720x360 with 1 Axes>"
      ]
     },
     "metadata": {
      "needs_background": "light"
     },
     "output_type": "display_data"
    }
   ],
   "source": [
    "TermPlot = Term.hist(bins=15, figsize=(10, 5))\n",
    "plt.ylabel(\"Quantidade de Empréstimos\")\n",
    "plt.xlabel(\"Quantidade de meses para pagamento\")\n"
   ]
  },
  {
   "cell_type": "markdown",
   "metadata": {},
   "source": [
    "### NoEmp\n",
    "- [X] Medidas de Resumo\n",
    "- [X] Maiores frequências e distribuição\n",
    "- [X] Outliers e dizer a decisão\n",
    "- [X] Gráfico"
   ]
  },
  {
   "cell_type": "code",
   "execution_count": null,
   "metadata": {},
   "outputs": [
    {
     "name": "stdout",
     "output_type": "stream",
     "text": [
      "Medidas de resumo\n",
      "count    611140.000000\n",
      "mean         11.993357\n",
      "std          75.656806\n",
      "min           0.000000\n",
      "25%           2.000000\n",
      "50%           4.000000\n",
      "75%          11.000000\n",
      "max        9999.000000\n",
      "Name: NoEmp, dtype: float64\n",
      "\n",
      "Maiores frequências\n",
      "1     101961\n",
      "2      91237\n",
      "3      60276\n",
      "4      49355\n",
      "5      40543\n",
      "6      30701\n",
      "7      21290\n",
      "8      21188\n",
      "10     21066\n",
      "12     14104\n",
      "Name: NoEmp, dtype: int64\n"
     ]
    }
   ],
   "source": [
    "# Medidas de Resumo\n",
    "\n",
    "print(f'Medidas de resumo\\n{df_raw[\"NoEmp\"].describe()}')\n",
    "print(f'\\nMaiores frequências\\n{df_raw[\"NoEmp\"].value_counts().head(10)}')"
   ]
  },
  {
   "cell_type": "code",
   "execution_count": null,
   "metadata": {},
   "outputs": [
    {
     "data": {
      "image/png": "[encoded data removed]",
      "text/plain": [
       "<Figure size 720x360 with 1 Axes>"
      ]
     },
     "metadata": {
      "needs_background": "light"
     },
     "output_type": "display_data"
    }
   ],
   "source": [
    "# Boxplot da coluna NoEmp\n",
    "NoEmp = df_raw[\"NoEmp\"]\n",
    "boxplot = NoEmp.plot(kind=\"box\", figsize=(10, 5))"
   ]
  },
  {
   "cell_type": "code",
   "execution_count": null,
   "metadata": {},
   "outputs": [
    {
     "data": {
      "image/png": "[encoded data removed]",
      "text/plain": [
       "<Figure size 720x360 with 1 Axes>"
      ]
     },
     "metadata": {
      "needs_background": "light"
     },
     "output_type": "display_data"
    }
   ],
   "source": [
    "# Optamos por não retirar os outliers pois realmente existem empresas com grande número de funcionários\n",
    "#  (sendo o maior valor 9999 - coerente para uma empresa de médio/grande porte), aplicamos a escala logaritmica no eixo Y para melhor visualização.\n",
    "NoEmpPlot = NoEmp.hist(bins=100, figsize=(10, 5))\n",
    "plt.ylabel(\"Quantidade de Empréstimos\")\n",
    "plt.xlabel(\"Quantidade de meses para pagamento\")\n",
    "plt.yscale('log')"
   ]
  },
  {
   "cell_type": "code",
   "execution_count": null,
   "metadata": {},
   "outputs": [
    {
     "data": {
      "text/html": [
       "<div>\n",
       "<style scoped>\n",
       "    .dataframe tbody tr th:only-of-type {\n",
       "        vertical-align: middle;\n",
       "    }\n",
       "\n",
       "    .dataframe tbody tr th {\n",
       "        vertical-align: top;\n",
       "    }\n",
       "\n",
       "    .dataframe thead th {\n",
       "        text-align: right;\n",
       "    }\n",
       "</style>\n",
       "<table border=\"1\" class=\"dataframe\">\n",
       "  <thead>\n",
       "    <tr style=\"text-align: right;\">\n",
       "      <th></th>\n",
       "      <th>GrAppv</th>\n",
       "      <th>DisbursementGross</th>\n",
       "      <th>Term</th>\n",
       "      <th>NoEmp</th>\n",
       "    </tr>\n",
       "  </thead>\n",
       "  <tbody>\n",
       "    <tr>\n",
       "      <th>GrAppv</th>\n",
       "      <td>1.000000</td>\n",
       "      <td>0.956657</td>\n",
       "      <td>0.464588</td>\n",
       "      <td>0.102615</td>\n",
       "    </tr>\n",
       "    <tr>\n",
       "      <th>DisbursementGross</th>\n",
       "      <td>0.956657</td>\n",
       "      <td>1.000000</td>\n",
       "      <td>0.411542</td>\n",
       "      <td>0.098364</td>\n",
       "    </tr>\n",
       "    <tr>\n",
       "      <th>Term</th>\n",
       "      <td>0.464588</td>\n",
       "      <td>0.411542</td>\n",
       "      <td>1.000000</td>\n",
       "      <td>0.056871</td>\n",
       "    </tr>\n",
       "    <tr>\n",
       "      <th>NoEmp</th>\n",
       "      <td>0.102615</td>\n",
       "      <td>0.098364</td>\n",
       "      <td>0.056871</td>\n",
       "      <td>1.000000</td>\n",
       "    </tr>\n",
       "  </tbody>\n",
       "</table>\n",
       "</div>"
      ],
      "text/plain": [
       "                     GrAppv  DisbursementGross      Term     NoEmp\n",
       "GrAppv             1.000000           0.956657  0.464588  0.102615\n",
       "DisbursementGross  0.956657           1.000000  0.411542  0.098364\n",
       "Term               0.464588           0.411542  1.000000  0.056871\n",
       "NoEmp              0.102615           0.098364  0.056871  1.000000"
      ]
     },
     "execution_count": 283,
     "metadata": {},
     "output_type": "execute_result"
    }
   ],
   "source": [
    "df_corr = df_raw[['GrAppv', 'DisbursementGross', 'Term', 'NoEmp']].corr()\n",
    "df_corr"
   ]
  },
  {
   "cell_type": "code",
   "execution_count": null,
   "metadata": {},
   "outputs": [
    {
     "data": {
      "text/plain": [
       "<AxesSubplot:>"
      ]
     },
     "execution_count": 284,
     "metadata": {},
     "output_type": "execute_result"
    },
    {
     "data": {
      "image/png": "[encoded data removed]",
      "text/plain": [
       "<Figure size 432x288 with 2 Axes>"
      ]
     },
     "metadata": {
      "needs_background": "light"
     },
     "output_type": "display_data"
    }
   ],
   "source": [
    "sns.heatmap(df_corr, vmin=-1, vmax=1, cmap='coolwarm', center=None, robust=False, annot=True, fmt='.2g', annot_kws=None, linewidths=0.1, linecolor='white') "
   ]
  },
  {
   "cell_type": "markdown",
   "metadata": {},
   "source": [
    "## Parte 2"
   ]
  },
  {
   "cell_type": "code",
   "execution_count": 123,
   "metadata": {},
   "outputs": [
    {
     "data": {
      "image/png": "[encoded data removed]",
      "text/plain": [
       "<Figure size 432x288 with 1 Axes>"
      ]
     },
     "metadata": {
      "needs_background": "light"
     },
     "output_type": "display_data"
    }
   ],
   "source": [
    "valores = np.load('values_squad4.npy')\n",
    "plt.hist(valores,bins=150);"
   ]
  },
  {
   "cell_type": "markdown",
   "metadata": {},
   "source": [
    "### Não aparenta ser normal mas faremos o teste"
   ]
  },
  {
   "cell_type": "code",
   "execution_count": 124,
   "metadata": {},
   "outputs": [
    {
     "name": "stdout",
     "output_type": "stream",
     "text": [
      "[0.45507489 0.53549332 6.0893318  ... 1.08672138 0.05897816 0.31222353]\n"
     ]
    },
    {
     "data": {
      "text/plain": [
       "20000"
      ]
     },
     "execution_count": 124,
     "metadata": {},
     "output_type": "execute_result"
    },
    {
     "data": {
      "image/png": "[encoded data removed]",
      "text/plain": [
       "<Figure size 432x288 with 1 Axes>"
      ]
     },
     "metadata": {
      "needs_background": "light"
     },
     "output_type": "display_data"
    }
   ],
   "source": [
    "# Cálculo da média e desvio padrão da AMOSTRA\n",
    "media = np.mean(valores)\n",
    "S = np.std(valores)\n",
    "print(valores)\n",
    "plt.plot(valores)\n",
    "len(valores)\n"
   ]
  },
  {
   "cell_type": "markdown",
   "metadata": {},
   "source": [
    "### TESTE DA DISTRIBUIÇÃO NORMAL"
   ]
  },
  {
   "cell_type": "code",
   "execution_count": 125,
   "metadata": {},
   "outputs": [],
   "source": [
    "#Criando uma normal com a média e desvio da amostra (define um objeto)\n",
    "normal_dados = stats.norm(loc = media, scale=S)\n"
   ]
  },
  {
   "cell_type": "code",
   "execution_count": 196,
   "metadata": {},
   "outputs": [],
   "source": [
    "k = 150\n",
    "eixo_x = np.linspace(np.min(valores),10,k)\n",
    "# Criando um array com 150 caras do eixo x divididos igualmente entre os valores máximo e mínimo\n",
    "# que será posteriormente usado com a média e desvio padrão da amostra para gerar a normal."
   ]
  },
  {
   "cell_type": "code",
   "execution_count": 198,
   "metadata": {},
   "outputs": [
    {
     "data": {
      "text/plain": [
       "[<matplotlib.lines.Line2D at 0x1b8d802fc40>]"
      ]
     },
     "execution_count": 198,
     "metadata": {},
     "output_type": "execute_result"
    },
    {
     "data": {
      "image/png": "[encoded data removed]",
      "text/plain": [
       "<Figure size 432x288 with 1 Axes>"
      ]
     },
     "metadata": {
      "needs_background": "light"
     },
     "output_type": "display_data"
    }
   ],
   "source": [
    "# valores acumulados\n",
    "prob_acumulada = normal_dados.cdf(eixo_x)\n",
    "plt.plot(prob_acumulada)"
   ]
  },
  {
   "cell_type": "code",
   "execution_count": 199,
   "metadata": {},
   "outputs": [],
   "source": [
    "#Calculando a diferença entre 2 pontos da probabilidade acumulada, o que resulta na probabilidade daquele bin\n",
    "area_bins = prob_acumulada[1:] - prob_acumulada[:-1]\n"
   ]
  },
  {
   "cell_type": "code",
   "execution_count": 200,
   "metadata": {},
   "outputs": [
    {
     "name": "stdout",
     "output_type": "stream",
     "text": [
      "[1.91358210e+02 1.96102188e+02 2.00753669e+02 2.05300617e+02\n",
      " 2.09731050e+02 2.14033088e+02 2.18195012e+02 2.22205308e+02\n",
      " 2.26052728e+02 2.29726337e+02 2.33215567e+02 2.36510265e+02\n",
      " 2.39600747e+02 2.42477838e+02 2.45132924e+02 2.47557993e+02\n",
      " 2.49745673e+02 2.51689272e+02 2.53382809e+02 2.54821051e+02\n",
      " 2.55999531e+02 2.56914578e+02 2.57563335e+02 2.57943770e+02\n",
      " 2.58054691e+02 2.57895750e+02 2.57467445e+02 2.56771120e+02\n",
      " 2.55808951e+02 2.54583945e+02 2.53099915e+02 2.51361464e+02\n",
      " 2.49373964e+02 2.47143522e+02 2.44676954e+02 2.41981750e+02\n",
      " 2.39066031e+02 2.35938515e+02 2.32608470e+02 2.29085667e+02\n",
      " 2.25380338e+02 2.21503118e+02 2.17465002e+02 2.13277291e+02\n",
      " 2.08951537e+02 2.04499493e+02 1.99933061e+02 1.95264235e+02\n",
      " 1.90505056e+02 1.85667556e+02 1.80763710e+02 1.75805390e+02\n",
      " 1.70804314e+02 1.65772008e+02 1.60719758e+02 1.55658577e+02\n",
      " 1.50599162e+02 1.45551862e+02 1.40526648e+02 1.35533084e+02\n",
      " 1.30580301e+02 1.25676976e+02 1.20831312e+02 1.16051023e+02\n",
      " 1.11343320e+02 1.06714903e+02 1.02171952e+02 9.77201263e+01\n",
      " 9.33645613e+01 8.91098709e+01 8.49601518e+01 8.09189906e+01\n",
      " 7.69894728e+01 7.31741939e+01 6.94752727e+01 6.58943662e+01\n",
      " 6.24326863e+01 5.90910179e+01 5.58697376e+01 5.27688348e+01\n",
      " 4.97879322e+01 4.69263079e+01 4.41829180e+01 4.15564189e+01\n",
      " 3.90451907e+01 3.66473599e+01 3.43608224e+01 3.21832662e+01\n",
      " 3.01121939e+01 2.81449441e+01 2.62787132e+01 2.45105757e+01\n",
      " 2.28375042e+01 2.12563885e+01 1.97640540e+01 1.83572785e+01\n",
      " 1.70328088e+01 1.57873763e+01 1.46177106e+01 1.35205535e+01\n",
      " 1.24926708e+01 1.15308635e+01 1.06319782e+01 9.79291622e+00\n",
      " 9.01064149e+00 8.28218819e+00 7.60466680e+00 6.97526959e+00\n",
      " 6.39127518e+00 5.85005229e+00 5.34906274e+00 4.88586369e+00\n",
      " 4.45810932e+00 4.06355174e+00 3.70004141e+00 3.36552707e+00\n",
      " 3.05805507e+00 2.77576841e+00 2.51690526e+00 2.27979722e+00\n",
      " 2.06286725e+00 1.86462738e+00 1.68367609e+00 1.51869563e+00\n",
      " 1.36844911e+00 1.23177752e+00 1.10759659e+00 9.94893643e-01\n",
      " 8.92724419e-01 8.00209835e-01 7.16532786e-01 6.40934960e-01\n",
      " 5.72713693e-01 5.11218881e-01 4.55849954e-01 4.06052938e-01\n",
      " 3.61317595e-01 3.21174663e-01 2.85193192e-01 2.52977994e-01\n",
      " 2.24167189e-01 1.98429875e-01 1.75463903e-01 1.54993763e-01\n",
      " 1.36768590e-01 1.20560276e-01 1.06161686e-01 9.33849930e-02\n",
      " 8.20601086e-02]\n"
     ]
    },
    {
     "data": {
      "text/plain": [
       "149"
      ]
     },
     "execution_count": 200,
     "metadata": {},
     "output_type": "execute_result"
    }
   ],
   "source": [
    "quant_obs_naquele_bin = area_bins * len(valores)\n",
    "print(quant_obs_naquele_bin)\n",
    "len(quant_obs_naquele_bin)\n"
   ]
  },
  {
   "cell_type": "code",
   "execution_count": 201,
   "metadata": {},
   "outputs": [],
   "source": [
    "hist, bins = np.histogram(valores, bins=eixo_x)\n",
    "# inserindo os valores da nossa amostra (eixo y) no intervalo proposto anteriormente (eixo x)\n"
   ]
  },
  {
   "cell_type": "code",
   "execution_count": 202,
   "metadata": {},
   "outputs": [
    {
     "data": {
      "text/plain": [
       "21564.637930570476"
      ]
     },
     "execution_count": 202,
     "metadata": {},
     "output_type": "execute_result"
    }
   ],
   "source": [
    "# Como há valores esperados nulos, optamos em adicionar um valor desprezível.\n",
    "# https://stats.stackexchange.com/questions/78101/chi-squared-test-with-0-expected-values\n",
    "\n",
    "# Perguntar ao prof...\n",
    "\n",
    "chi_amostra = np.sum((quant_obs_naquele_bin - hist)**2/(quant_obs_naquele_bin + 10**-10))\n",
    "chi_amostra"
   ]
  },
  {
   "cell_type": "code",
   "execution_count": 165,
   "metadata": {},
   "outputs": [
    {
     "data": {
      "text/plain": [
       "176.29382259957035"
      ]
     },
     "execution_count": 165,
     "metadata": {},
     "output_type": "execute_result"
    }
   ],
   "source": [
    "# Perguntar ao prof....\n",
    "chi_critico = stats.chi2.ppf(0.95,df=k-2-1)\n",
    "chi_critico"
   ]
  },
  {
   "cell_type": "code",
   "execution_count": 163,
   "metadata": {},
   "outputs": [
    {
     "name": "stdout",
     "output_type": "stream",
     "text": [
      "Hipótese nula rejeitada pois chi_amostra (890175923589.3203) > chi_critico (176.29382259957035)\n"
     ]
    }
   ],
   "source": [
    "if chi_amostra > chi_critico:\n",
    "  print(f'Hipótese nula rejeitada pois chi_amostra ({chi_amostra}) > chi_critico ({chi_critico})')\n",
    "else:\n",
    "  print(f'Hipótese nula não rejeitada pois chi_amostra ({chi_amostra}) < chi_critico ({chi_critico})')"
   ]
  },
  {
   "cell_type": "markdown",
   "metadata": {},
   "source": [
    "## Teste Exponencial"
   ]
  },
  {
   "cell_type": "code",
   "execution_count": 181,
   "metadata": {},
   "outputs": [],
   "source": [
    "#Criando uma normal com a média e desvio da amostra (define um objeto)\n",
    "exp_dados = stats.expon(loc = media, scale=S)"
   ]
  },
  {
   "cell_type": "code",
   "execution_count": 182,
   "metadata": {},
   "outputs": [],
   "source": [
    "k = 150\n",
    "eixo_x = np.linspace(np.min(valores),np.max(valores),k)\n",
    "# Criando um array com 150 caras do eixo x divididos igualmente entre os valores máximo e mínimo\n",
    "# que será posteriormente usado com a média e desvio padrão da amostra para gerar a normal."
   ]
  },
  {
   "cell_type": "code",
   "execution_count": null,
   "metadata": {},
   "outputs": [],
   "source": [
    "# valores acumulados\n",
    "prob_acumulada = exp_dados.cdf(eixo_x)\n",
    "plt.plot(prob_acumulada)"
   ]
  },
  {
   "cell_type": "code",
   "execution_count": 184,
   "metadata": {},
   "outputs": [],
   "source": [
    "#Calculando a diferença entre 2 pontos da probabilidade acumulada, o que resulta na probabilidade daquele bin\n",
    "area_bins = prob_acumulada[1:] - prob_acumulada[:-1]\n"
   ]
  },
  {
   "cell_type": "code",
   "execution_count": null,
   "metadata": {},
   "outputs": [],
   "source": [
    "quant_obs_naquele_bin = area_bins * len(valores)\n",
    "print(quant_obs_naquele_bin)\n",
    "len(quant_obs_naquele_bin)"
   ]
  },
  {
   "cell_type": "code",
   "execution_count": 186,
   "metadata": {},
   "outputs": [],
   "source": [
    "hist, bins = np.histogram(valores, bins=eixo_x)\n",
    "# inserindo os valores da nossa amostra (eixo y) no intervalo proposto anteriormente (eixo x)"
   ]
  },
  {
   "cell_type": "code",
   "execution_count": 189,
   "metadata": {},
   "outputs": [
    {
     "data": {
      "text/plain": [
       "3.924188500011381e+17"
      ]
     },
     "execution_count": 189,
     "metadata": {},
     "output_type": "execute_result"
    }
   ],
   "source": [
    "# Como há valores esperados nulos, optamos em adicionar um valor desprezível.\n",
    "# https://stats.stackexchange.com/questions/78101/chi-squared-test-with-0-expected-values\n",
    "\n",
    "# Perguntar ao prof...\n",
    "\n",
    "chi_amostra = np.sum((quant_obs_naquele_bin - hist)**2/(quant_obs_naquele_bin + 10**-10))\n",
    "chi_amostra"
   ]
  },
  {
   "cell_type": "code",
   "execution_count": 179,
   "metadata": {},
   "outputs": [
    {
     "data": {
      "text/plain": [
       "176.29382259957035"
      ]
     },
     "execution_count": 179,
     "metadata": {},
     "output_type": "execute_result"
    }
   ],
   "source": [
    "# Perguntar ao prof....\n",
    "chi_critico = stats.chi2.ppf(0.95,df=k-2-1)\n",
    "chi_critico"
   ]
  },
  {
   "cell_type": "code",
   "execution_count": 203,
   "metadata": {},
   "outputs": [
    {
     "name": "stdout",
     "output_type": "stream",
     "text": [
      "Hipótese nula rejeitada pois chi_amostra (21564.637930570476) > chi_critico (176.29382259957035)\n"
     ]
    }
   ],
   "source": [
    "if chi_amostra > chi_critico:\n",
    "  print(f'Hipótese nula rejeitada pois chi_amostra ({chi_amostra}) > chi_critico ({chi_critico})')\n",
    "else:\n",
    "  print(f'Hipótese nula não rejeitada pois chi_amostra ({chi_amostra}) < chi_critico ({chi_critico})')"
   ]
  },
  {
   "cell_type": "markdown",
   "metadata": {},
   "source": [
    "## Teste Gamma"
   ]
  },
  {
   "cell_type": "code",
   "execution_count": 205,
   "metadata": {},
   "outputs": [
    {
     "ename": "TypeError",
     "evalue": "_parse_args() missing 1 required positional argument: 'a'",
     "output_type": "error",
     "traceback": [
      "\u001b[1;31m---------------------------------------------------------------------------\u001b[0m",
      "\u001b[1;31mTypeError\u001b[0m                                 Traceback (most recent call last)",
      "\u001b[1;32mc:\\Users\\ricam\\LETS CODE\\Projeto 6\\letscode-projeto-6\\projeto_6.ipynb Célula: 85\u001b[0m in \u001b[0;36m<cell line: 2>\u001b[1;34m()\u001b[0m\n\u001b[0;32m      <a href='vscode-notebook-cell:/c%3A/Users/ricam/LETS%20CODE/Projeto%206/letscode-projeto-6/projeto_6.ipynb#Y150sZmlsZQ%3D%3D?line=0'>1</a>\u001b[0m \u001b[39m#Criando uma normal com a média e desvio da amostra (define um objeto)\u001b[39;00m\n\u001b[1;32m----> <a href='vscode-notebook-cell:/c%3A/Users/ricam/LETS%20CODE/Projeto%206/letscode-projeto-6/projeto_6.ipynb#Y150sZmlsZQ%3D%3D?line=1'>2</a>\u001b[0m gama_dados \u001b[39m=\u001b[39m stats\u001b[39m.\u001b[39;49mgamma(loc \u001b[39m=\u001b[39;49m media, scale\u001b[39m=\u001b[39;49mS)\n",
      "File \u001b[1;32mc:\\Users\\ricam\\AppData\\Local\\Programs\\Python\\Python310\\lib\\site-packages\\scipy\\stats\\_distn_infrastructure.py:866\u001b[0m, in \u001b[0;36mrv_generic.__call__\u001b[1;34m(self, *args, **kwds)\u001b[0m\n\u001b[0;32m    865\u001b[0m \u001b[39mdef\u001b[39;00m \u001b[39m__call__\u001b[39m(\u001b[39mself\u001b[39m, \u001b[39m*\u001b[39margs, \u001b[39m*\u001b[39m\u001b[39m*\u001b[39mkwds):\n\u001b[1;32m--> 866\u001b[0m     \u001b[39mreturn\u001b[39;00m \u001b[39mself\u001b[39m\u001b[39m.\u001b[39mfreeze(\u001b[39m*\u001b[39margs, \u001b[39m*\u001b[39m\u001b[39m*\u001b[39mkwds)\n",
      "File \u001b[1;32mc:\\Users\\ricam\\AppData\\Local\\Programs\\Python\\Python310\\lib\\site-packages\\scipy\\stats\\_distn_infrastructure.py:863\u001b[0m, in \u001b[0;36mrv_generic.freeze\u001b[1;34m(self, *args, **kwds)\u001b[0m\n\u001b[0;32m    848\u001b[0m \u001b[39mdef\u001b[39;00m \u001b[39mfreeze\u001b[39m(\u001b[39mself\u001b[39m, \u001b[39m*\u001b[39margs, \u001b[39m*\u001b[39m\u001b[39m*\u001b[39mkwds):\n\u001b[0;32m    849\u001b[0m     \u001b[39m\"\"\"Freeze the distribution for the given arguments.\u001b[39;00m\n\u001b[0;32m    850\u001b[0m \n\u001b[0;32m    851\u001b[0m \u001b[39m    Parameters\u001b[39;00m\n\u001b[1;32m   (...)\u001b[0m\n\u001b[0;32m    861\u001b[0m \n\u001b[0;32m    862\u001b[0m \u001b[39m    \"\"\"\u001b[39;00m\n\u001b[1;32m--> 863\u001b[0m     \u001b[39mreturn\u001b[39;00m rv_frozen(\u001b[39mself\u001b[39m, \u001b[39m*\u001b[39margs, \u001b[39m*\u001b[39m\u001b[39m*\u001b[39mkwds)\n",
      "File \u001b[1;32mc:\\Users\\ricam\\AppData\\Local\\Programs\\Python\\Python310\\lib\\site-packages\\scipy\\stats\\_distn_infrastructure.py:441\u001b[0m, in \u001b[0;36mrv_frozen.__init__\u001b[1;34m(self, dist, *args, **kwds)\u001b[0m\n\u001b[0;32m    438\u001b[0m \u001b[39m# create a new instance\u001b[39;00m\n\u001b[0;32m    439\u001b[0m \u001b[39mself\u001b[39m\u001b[39m.\u001b[39mdist \u001b[39m=\u001b[39m dist\u001b[39m.\u001b[39m\u001b[39m__class__\u001b[39m(\u001b[39m*\u001b[39m\u001b[39m*\u001b[39mdist\u001b[39m.\u001b[39m_updated_ctor_param())\n\u001b[1;32m--> 441\u001b[0m shapes, _, _ \u001b[39m=\u001b[39m \u001b[39mself\u001b[39m\u001b[39m.\u001b[39mdist\u001b[39m.\u001b[39m_parse_args(\u001b[39m*\u001b[39margs, \u001b[39m*\u001b[39m\u001b[39m*\u001b[39mkwds)\n\u001b[0;32m    442\u001b[0m \u001b[39mself\u001b[39m\u001b[39m.\u001b[39ma, \u001b[39mself\u001b[39m\u001b[39m.\u001b[39mb \u001b[39m=\u001b[39m \u001b[39mself\u001b[39m\u001b[39m.\u001b[39mdist\u001b[39m.\u001b[39m_get_support(\u001b[39m*\u001b[39mshapes)\n",
      "\u001b[1;31mTypeError\u001b[0m: _parse_args() missing 1 required positional argument: 'a'"
     ]
    }
   ],
   "source": [
    "#Criando uma normal com a média e desvio da amostra (define um objeto)\n",
    "gamma_dados = stats.gamma()"
   ]
  },
  {
   "cell_type": "code",
   "execution_count": null,
   "metadata": {},
   "outputs": [],
   "source": [
    "k = 150\n",
    "eixo_x = np.linspace(np.min(valores),np.max(valores),k)\n",
    "# Criando um array com 150 caras do eixo x divididos igualmente entre os valores máximo e mínimo\n",
    "# que será posteriormente usado com a média e desvio padrão da amostra para gerar a normal."
   ]
  },
  {
   "cell_type": "code",
   "execution_count": null,
   "metadata": {},
   "outputs": [],
   "source": [
    "# valores acumulados\n",
    "prob_acumulada = gamma_dados.cdf(eixo_x)\n",
    "plt.plot(prob_acumulada)"
   ]
  },
  {
   "cell_type": "code",
   "execution_count": null,
   "metadata": {},
   "outputs": [],
   "source": [
    "#Calculando a diferença entre 2 pontos da probabilidade acumulada, o que resulta na probabilidade daquele bin\n",
    "area_bins = prob_acumulada[1:] - prob_acumulada[:-1]\n"
   ]
  },
  {
   "cell_type": "code",
   "execution_count": null,
   "metadata": {},
   "outputs": [],
   "source": [
    "quant_obs_naquele_bin = area_bins * len(valores)\n",
    "print(quant_obs_naquele_bin)\n",
    "len(quant_obs_naquele_bin)"
   ]
  },
  {
   "cell_type": "code",
   "execution_count": null,
   "metadata": {},
   "outputs": [],
   "source": [
    "hist, bins = np.histogram(valores, bins=eixo_x)\n",
    "# inserindo os valores da nossa amostra (eixo y) no intervalo proposto anteriormente (eixo x)"
   ]
  },
  {
   "cell_type": "code",
   "execution_count": null,
   "metadata": {},
   "outputs": [],
   "source": [
    "# Como há valores esperados nulos, optamos em adicionar um valor desprezível.\n",
    "# https://stats.stackexchange.com/questions/78101/chi-squared-test-with-0-expected-values\n",
    "\n",
    "# Perguntar ao prof...\n",
    "\n",
    "chi_amostra = np.sum((quant_obs_naquele_bin - hist)**2/(quant_obs_naquele_bin + 10**-10))\n",
    "chi_amostra"
   ]
  },
  {
   "cell_type": "code",
   "execution_count": null,
   "metadata": {},
   "outputs": [],
   "source": [
    "# Perguntar ao prof....\n",
    "chi_critico = stats.chi2.ppf(0.95,df=k-2-1)\n",
    "chi_critico"
   ]
  },
  {
   "cell_type": "code",
   "execution_count": null,
   "metadata": {},
   "outputs": [],
   "source": [
    "if chi_amostra > chi_critico:\n",
    "  print(f'Hipótese nula rejeitada pois chi_amostra ({chi_amostra}) > chi_critico ({chi_critico})')\n",
    "else:\n",
    "  print(f'Hipótese nula não rejeitada pois chi_amostra ({chi_amostra}) < chi_critico ({chi_critico})')"
   ]
  },
  {
   "cell_type": "code",
   "execution_count": null,
   "metadata": {},
   "outputs": [],
   "source": []
  }
 ],
 "metadata": {
  "kernelspec": {
   "display_name": "Python 3.10.4 64-bit",
   "language": "python",
   "name": "python3"
  },
  "language_info": {
   "codemirror_mode": {
    "name": "ipython",
    "version": 3
   },
   "file_extension": ".py",
   "mimetype": "text/x-python",
   "name": "python",
   "nbconvert_exporter": "python",
   "pygments_lexer": "ipython3",
   "version": "3.10.4"
  },
  "orig_nbformat": 4,
  "vscode": {
   "interpreter": {
    "hash": "780041ee5236f7353a360e799dd9cba6752635ca0f586cb7813bb6fd62d723d2"
   }
  }
 },
 "nbformat": 4,
 "nbformat_minor": 2
}
